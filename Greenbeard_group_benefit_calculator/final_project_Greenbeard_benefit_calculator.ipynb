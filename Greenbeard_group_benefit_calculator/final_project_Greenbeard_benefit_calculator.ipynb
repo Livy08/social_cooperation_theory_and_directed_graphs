{
 "cells": [
  {
   "cell_type": "code",
   "execution_count": 17,
   "metadata": {},
   "outputs": [],
   "source": [
    "import networkx as nx\n",
    "import matplotlib.pyplot as plt"
   ]
  },
  {
   "cell_type": "code",
   "execution_count": 68,
   "metadata": {},
   "outputs": [],
   "source": [
    "# set desired parameters reward and cost of cooperation\n",
    "reward = 3\n",
    "cost = 1\n",
    "\n",
    "# we assume that individual do not \"cooperate\" with themselves; \n",
    "# after all, cooperation is an interaction between multiple individuals\n",
    "def group_benefit_in_Greenbeard_city(A_population, B_population, C_population):\n",
    "    A_group_benefit = (A_population-1)*(reward-cost)*A_population - (B_population+C_population)*cost*A_population\n",
    "    B_group_benefit = A_population*reward*B_population\n",
    "    C_group_benefit = (C_population-1)*(reward-cost)*C_population + A_population*reward*C_population\n",
    "    total_benefit = A_group_benefit+B_group_benefit+C_group_benefit\n",
    "    return {\"A Group Benefit\":A_group_benefit,\"B Group Benefit\":B_group_benefit,\n",
    "            \"C Group Benefit\":C_group_benefit,\"Total City Benefit\":total_benefit}\n",
    "\n",
    "def individual_benefit_in_Greenbeard_city(A_population, B_population, C_population):\n",
    "    A_indiv_benefit = (A_population-1)*(reward) - (A_population-1+B_population+C_population)*cost\n",
    "    B_indiv_benefit = A_population*reward\n",
    "    C_indiv_benefit = (C_population-1)*(reward-cost)*C_population + A_population*reward \n",
    "    total_benefit = A_benefit+B_benefit+C_benefit\n",
    "    return {\"A Group Benefit\":A_indiv_benefit,\"B Group Benefit\":B_indiv_benefit,\n",
    "            \"C Group Benefit\":C_indiv_benefit,\"Total City Benefit\":total_indiv_benefit}"
   ]
  },
  {
   "cell_type": "code",
   "execution_count": 69,
   "metadata": {},
   "outputs": [
    {
     "data": {
      "text/plain": [
       "{'A Group Benefit': -2,\n",
       " 'B Group Benefit': 3,\n",
       " 'C Group Benefit': 3,\n",
       " 'Total City Benefit': 4}"
      ]
     },
     "execution_count": 69,
     "metadata": {},
     "output_type": "execute_result"
    }
   ],
   "source": [
    "group_benefit_in_Greenbeard_city(1,1,1)"
   ]
  },
  {
   "cell_type": "code",
   "execution_count": 70,
   "metadata": {},
   "outputs": [
    {
     "data": {
      "text/plain": [
       "{'A Group Benefit': -6,\n",
       " 'B Group Benefit': 27,\n",
       " 'C Group Benefit': 39,\n",
       " 'Total City Benefit': 60}"
      ]
     },
     "execution_count": 70,
     "metadata": {},
     "output_type": "execute_result"
    }
   ],
   "source": [
    "group_benefit_in_Greenbeard_city(3,3,3)"
   ]
  },
  {
   "cell_type": "code",
   "execution_count": 71,
   "metadata": {},
   "outputs": [
    {
     "data": {
      "text/plain": [
       "{'A Group Benefit': -2000,\n",
       " 'B Group Benefit': 3000000,\n",
       " 'C Group Benefit': 4998000,\n",
       " 'Total City Benefit': 7996000}"
      ]
     },
     "execution_count": 71,
     "metadata": {},
     "output_type": "execute_result"
    }
   ],
   "source": [
    "group_benefit_in_Greenbeard_city(1000,1000,1000)"
   ]
  },
  {
   "cell_type": "code",
   "execution_count": 72,
   "metadata": {},
   "outputs": [
    {
     "data": {
      "text/plain": [
       "{'A Group Benefit': -2002000,\n",
       " 'B Group Benefit': 9000000,\n",
       " 'C Group Benefit': 4998000,\n",
       " 'Total City Benefit': 11996000}"
      ]
     },
     "execution_count": 72,
     "metadata": {},
     "output_type": "execute_result"
    }
   ],
   "source": [
    "group_benefit_in_Greenbeard_city(1000,3000,1000)"
   ]
  },
  {
   "cell_type": "code",
   "execution_count": null,
   "metadata": {},
   "outputs": [],
   "source": []
  }
 ],
 "metadata": {
  "kernelspec": {
   "display_name": "Python 3.6.5 64-bit ('base': conda)",
   "language": "python",
   "name": "python36564bitbaseconda361f9cf83bfd45c8a603a09826244974"
  },
  "language_info": {
   "codemirror_mode": {
    "name": "ipython",
    "version": 3
   },
   "file_extension": ".py",
   "mimetype": "text/x-python",
   "name": "python",
   "nbconvert_exporter": "python",
   "pygments_lexer": "ipython3",
   "version": "3.6.8"
  }
 },
 "nbformat": 4,
 "nbformat_minor": 2
}
